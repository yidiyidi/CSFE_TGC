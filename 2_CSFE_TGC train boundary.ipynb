{
 "cells": [
  {
   "cell_type": "markdown",
   "id": "e3856516",
   "metadata": {},
   "source": [
    "## Data upload"
   ]
  },
  {
   "cell_type": "code",
   "execution_count": 1,
   "id": "31cec098",
   "metadata": {
    "code_folding": []
   },
   "outputs": [],
   "source": [
    "#import packages\n",
    "import matplotlib.pyplot as plt\n",
    "import numpy as np\n",
    "import pandas as pd\n",
    "import math\n",
    "import random\n",
    "# Device configuration\n",
    "import os \n",
    "os.environ[\"CUDA_DEVICE_ORDER\"]=\"PCI_BUS_ID\"\n",
    "os.environ[\"CUDA_VISIBLE_DEVICES\"]='0'"
   ]
  },
  {
   "cell_type": "code",
   "execution_count": 2,
   "id": "1f534256",
   "metadata": {},
   "outputs": [],
   "source": [
    "#update data\n",
    "#feature\n",
    "train_ch = np.array(pd.read_csv(\"train_noise_logits_before.csv\", index_col = 0))\n",
    "#origin input\n",
    "train = np.array(pd.read_csv(\"train.csv\", index_col = 0))\n",
    "train = np.reshape(train, [train.shape[0], 2, 128])\n",
    "#label\n",
    "train_label = np.array(pd.read_csv(\"train_label.csv\", index_col = 0))\n",
    "train_noise_label = np.array(pd.read_csv(\"train_noise_label.csv\", index_col = 0))\n",
    "train_label = np.reshape(train_label, [-1])\n",
    "train_noise_label = np.reshape(train_noise_label, [-1])"
   ]
  },
  {
   "cell_type": "code",
   "execution_count": 3,
   "id": "d2b46eb0",
   "metadata": {},
   "outputs": [
    {
     "data": {
      "text/plain": [
       "0.5"
      ]
     },
     "execution_count": 3,
     "metadata": {},
     "output_type": "execute_result"
    }
   ],
   "source": [
    "sum(train_noise_label == train_label) / len(train_noise_label)"
   ]
  },
  {
   "cell_type": "code",
   "execution_count": 4,
   "id": "a7ad49d7",
   "metadata": {},
   "outputs": [],
   "source": [
    "a = np.cov(train_ch, rowvar = False)\n",
    "a_c, a_v = np.linalg.eig(a)\n",
    "train_ch_ro = np.dot(train_ch, a_v)"
   ]
  },
  {
   "cell_type": "markdown",
   "id": "49e6c007",
   "metadata": {},
   "source": [
    "## CSFE"
   ]
  },
  {
   "cell_type": "code",
   "execution_count": 5,
   "id": "1a1b8c49",
   "metadata": {},
   "outputs": [],
   "source": [
    "def g(x, sample, label, r):\n",
    "    n  = sample.shape[0]\n",
    "    g = 0\n",
    "\n",
    "    for i in range(r):\n",
    "        p_r = np.sum(label == i) / n\n",
    "        F_n = np.sum((sample <= x)) / n\n",
    "        F_n_bar = 1 - F_n\n",
    "        F_rn = np.sum((sample[(label == i)] <= x)) / (n * p_r)\n",
    "        F_rn_bar = 1 - F_rn\n",
    "#         print(F_n, F_rn)\n",
    "        \n",
    "        g += p_r * F_rn * np.log((F_rn + 1e-6) / (F_n + 1e-6)) + p_r * F_rn_bar * np.log((F_rn_bar + 1e-6) / (F_n_bar + 1e-6))\n",
    "        \n",
    "        \n",
    "#         if (F_n != 0) & (F_n_bar != 0) & (F_rn != 0) & (F_rn_bar != 0):\n",
    "#             g += p_r * F_rn * np.log(F_rn / (F_n)) + p_r * F_rn_bar * np.log(F_rn_bar / (F_n_bar))\n",
    "#         else:\n",
    "#             g += 0\n",
    "#     print(g)\n",
    "\n",
    "    return 2 * g   "
   ]
  },
  {
   "cell_type": "code",
   "execution_count": 6,
   "id": "fb3f60b9",
   "metadata": {},
   "outputs": [],
   "source": [
    "def LR(x, y, r):\n",
    "    n = x.shape[0]\n",
    "    p = x.shape[1]\n",
    "    lr = np.zeros(p)\n",
    "    for i in range(p):\n",
    "        sample = x[:, i]\n",
    "        label = y\n",
    "        m = np.min(sample)\n",
    "        M = np.max(sample)\n",
    "        x_i = np.linspace(m, M, 101)\n",
    "        inter = (M - m) / 100\n",
    "        j = 0\n",
    "        for j in range(len(x_i) - 1):\n",
    "            lr[i] += g(x_i[j], sample, label, r) / n\n",
    "    \n",
    "    \n",
    "    return lr"
   ]
  },
  {
   "cell_type": "code",
   "execution_count": 7,
   "id": "aba249e0",
   "metadata": {},
   "outputs": [],
   "source": [
    "lr_result = LR(train_ch_ro, train_noise_label, 11)"
   ]
  },
  {
   "cell_type": "code",
   "execution_count": 8,
   "id": "93be0d2e",
   "metadata": {},
   "outputs": [
    {
     "data": {
      "text/plain": [
       "array([1.10721441e-03, 1.23642569e-03, 4.10178095e-04, 6.72735976e-04,\n",
       "       2.60972664e-04, 6.52503019e-05, 1.62455994e-04, 1.51640336e-04,\n",
       "       1.22306409e-04, 1.13329201e-04, 9.26008110e-05, 6.81021669e-05,\n",
       "       1.10447851e-04, 1.67670596e-04, 1.01777107e-04, 6.59312249e-05,\n",
       "       8.77701079e-05, 8.78169816e-05, 9.39992184e-05, 6.72920109e-05,\n",
       "       7.38196066e-05, 8.62993488e-05, 6.58774616e-05, 7.81064847e-05,\n",
       "       6.43273277e-05, 9.69365057e-05, 7.04574735e-05, 6.81592562e-05,\n",
       "       6.06637836e-05, 6.11144843e-05, 5.19339644e-05, 7.61021226e-05,\n",
       "       6.04431267e-05, 8.65615143e-05, 6.61927828e-05, 9.77094734e-05,\n",
       "       6.65392146e-05, 5.52382118e-05, 5.90695636e-05, 5.68459348e-05,\n",
       "       7.16315234e-05, 8.00030165e-05, 6.68455219e-05, 5.86260510e-05,\n",
       "       6.74720106e-05, 7.23778566e-05, 5.63365991e-05, 6.86554525e-05,\n",
       "       6.14824820e-05, 4.88273151e-05, 6.32969182e-05, 6.95132125e-05,\n",
       "       6.03801170e-05, 6.80873380e-05, 4.77802093e-05, 7.36358329e-05,\n",
       "       5.51572319e-05, 4.42164130e-05, 7.19491421e-05, 5.22933460e-05,\n",
       "       6.90764000e-05, 7.45336316e-05, 5.10356956e-05, 5.64827204e-05,\n",
       "       6.60486588e-05, 4.93010082e-05, 5.28545327e-05, 8.56895517e-05,\n",
       "       5.85710287e-05, 4.62871162e-05, 5.62253018e-05, 6.90052869e-05,\n",
       "       4.75645034e-05, 5.53510577e-05, 5.95883819e-05, 6.82646617e-05,\n",
       "       5.36755699e-05, 4.25932884e-05, 5.12665730e-05, 4.85562989e-05,\n",
       "       6.81175527e-05, 6.79103658e-05, 4.96459050e-05, 6.27584000e-05,\n",
       "       4.90863855e-05, 6.35220864e-05, 6.17859503e-05, 5.62974835e-05,\n",
       "       5.26867140e-05, 5.93011733e-05, 6.05408141e-05, 4.53845879e-05,\n",
       "       8.24160906e-05, 6.45916690e-05, 7.20727563e-05, 5.50992540e-05,\n",
       "       6.11909061e-05, 6.00695314e-05, 6.03626646e-05, 6.52951464e-05,\n",
       "       6.14944325e-05, 5.93229743e-05, 6.59840015e-05, 5.74013574e-05,\n",
       "       4.58285550e-05, 6.56992929e-05, 6.75817873e-05, 6.48029844e-05,\n",
       "       5.68396162e-05, 6.72355508e-05, 4.99274205e-05, 5.53207619e-05,\n",
       "       7.37795300e-05, 6.15488430e-05, 5.76575290e-05, 5.73414958e-05,\n",
       "       5.88530118e-05, 6.11282977e-05, 6.58912356e-05, 5.87162155e-05,\n",
       "       5.61500724e-05, 7.20753545e-05, 6.94994686e-05, 7.25362677e-05,\n",
       "       7.54510786e-05, 6.92659963e-05, 7.20132539e-05, 5.43901289e-05,\n",
       "       7.40076935e-05, 6.81294796e-05, 5.58175136e-05, 6.00014057e-05,\n",
       "       6.35225323e-05, 5.78642887e-05, 5.41509708e-05, 4.22865161e-05,\n",
       "       3.60172606e-05, 3.54674665e-05, 6.32763863e-05, 3.77486778e-05,\n",
       "       8.73572734e-05, 5.97978281e-05, 6.46036683e-05, 6.30584298e-05,\n",
       "       6.33112203e-05, 6.64687651e-05, 6.13173461e-05, 5.85528862e-05,\n",
       "       6.52850445e-05, 6.09850342e-05, 5.98610374e-05, 6.63909917e-05,\n",
       "       4.31003889e-05, 4.93311836e-05, 4.60042953e-05, 5.76975244e-05,\n",
       "       5.58669788e-05, 5.53490900e-05, 5.11364556e-05, 6.30838462e-05,\n",
       "       5.06835068e-05, 5.73569840e-05, 6.66208038e-05, 4.82870460e-05,\n",
       "       4.87944000e-05, 6.11866092e-05, 6.18009608e-05, 7.11398072e-05,\n",
       "       7.28826642e-05, 5.92097646e-05, 7.15468285e-05, 6.60840484e-05,\n",
       "       3.67425093e-05, 5.63880521e-05, 6.73374973e-05, 5.49152200e-05,\n",
       "       7.50589719e-05, 8.92999636e-05, 5.10669881e-05, 3.86583277e-05,\n",
       "       6.40334542e-05, 3.74015628e-05, 5.71018352e-05, 4.53902823e-05,\n",
       "       6.72416264e-05, 5.55023892e-05, 5.27193235e-05, 5.09119682e-05,\n",
       "       7.89051969e-05, 6.49171800e-05, 7.22880257e-05, 5.58122879e-05,\n",
       "       4.09744823e-05, 5.82739070e-05, 6.41704508e-05, 5.89843971e-05,\n",
       "       4.97614537e-05, 5.40739320e-05, 4.79095167e-05, 6.55494342e-05,\n",
       "       4.70179938e-05, 4.46612719e-05, 5.12520758e-05, 7.02191949e-05,\n",
       "       4.45246971e-05, 4.47228332e-05, 4.24853830e-05, 5.62682465e-05,\n",
       "       4.30362584e-05, 6.55081834e-05, 5.17701969e-05, 4.55997488e-05,\n",
       "       5.03397862e-05, 6.42167327e-05, 5.14992164e-05, 4.93115506e-05,\n",
       "       7.19937120e-05, 6.34536762e-05, 5.16829581e-05, 6.57640832e-05,\n",
       "       6.05421761e-05, 4.31975681e-05, 6.19120051e-05, 4.96698770e-05,\n",
       "       5.65870814e-05, 5.34822347e-05, 4.96239350e-05, 7.31096899e-05,\n",
       "       5.06733334e-05, 4.62262062e-05, 5.92155007e-05, 7.19696546e-05,\n",
       "       6.01271458e-05, 4.56393944e-05, 5.11342522e-05, 4.67828113e-05,\n",
       "       5.93590617e-05, 6.97728806e-05, 6.12797801e-05, 5.44026727e-05,\n",
       "       6.64985332e-05, 5.81447846e-05, 4.45606714e-05, 6.74388800e-05,\n",
       "       4.46081599e-05, 7.45430395e-05, 6.62164009e-05, 6.14956142e-05,\n",
       "       7.21269869e-05, 5.36002658e-05, 6.86576592e-05, 5.02326958e-05,\n",
       "       4.88698344e-05, 5.67148774e-05, 6.14637293e-05, 5.30236851e-05])"
      ]
     },
     "execution_count": 8,
     "metadata": {},
     "output_type": "execute_result"
    }
   ],
   "source": [
    "np.set_printoptions(threshold=100000)\n",
    "lr_result"
   ]
  },
  {
   "cell_type": "code",
   "execution_count": 9,
   "id": "774eab72",
   "metadata": {},
   "outputs": [
    {
     "data": {
      "text/plain": [
       "array([137, 136, 172, 181, 139, 179, 192, 135, 206,  77, 208, 152, 221,\n",
       "        57, 204, 242, 244, 201, 205,  91, 183, 211, 233, 104, 154, 229,\n",
       "        69, 235, 200,  72,  54, 198, 163,  79, 164,  49, 252,  84,  65,\n",
       "       215, 153, 226,  82, 223, 196, 110, 251, 212, 228, 160, 187,  62,\n",
       "       178, 234, 158, 202,  78, 214, 218, 210,  30,  59,  88, 186,  66,\n",
       "       255, 225, 249,  76, 197, 134, 127, 239, 175,  95,  56,  37, 111,\n",
       "       157,  73, 185, 191, 130, 156, 120,  70, 207,  87,  46, 173,  63,\n",
       "       224, 253, 108,  39, 182, 115, 161, 103, 114, 155, 133, 241, 193,\n",
       "       147,  68,  43, 119, 116, 195,  38, 169, 230,  89, 101, 236,  74,\n",
       "       141, 150, 131,  97, 232,  98,  52,  32,  90, 220,  28, 149,  29,\n",
       "       117, 165,  96, 238, 146, 254,  48, 100, 247, 113,  86, 166, 222,\n",
       "        83, 143, 159, 138,  50, 144, 217,  85, 132, 180, 194, 213,  24,\n",
       "        93, 142, 107, 189,   5, 148,  99, 209, 199, 105, 219,  22, 118,\n",
       "        15, 102,  64, 171,  34, 246, 151, 145, 240,  36, 162,  42, 109,\n",
       "       184,  19, 174, 243,  44, 106,  81,  53,  11,  80, 129,  27,  75,\n",
       "        47, 250,  71,  60, 125, 122,  51, 237, 203,  26, 167, 170,  40,\n",
       "        58, 231, 216, 126,  94, 121, 248, 190,  45, 123, 168, 227,  55,\n",
       "       112,  20, 128,  61, 245, 176, 124,  31,  23, 188,  41,  92,  67,\n",
       "        21,  33, 140,  16,  17, 177,  10,  18,  25,  35,  14,  12,   9,\n",
       "         8,   7,   6,  13,   4,   2,   3,   0,   1], dtype=int64)"
      ]
     },
     "execution_count": 9,
     "metadata": {},
     "output_type": "execute_result"
    }
   ],
   "source": [
    "np.argsort(lr_result)"
   ]
  },
  {
   "cell_type": "markdown",
   "id": "da39966f",
   "metadata": {},
   "source": [
    "## TGC"
   ]
  },
  {
   "cell_type": "code",
   "execution_count": 10,
   "id": "fdaa5e33",
   "metadata": {},
   "outputs": [],
   "source": [
    "def t_type(x, v):\n",
    "    n = x.shape[0]\n",
    "    p = x.shape[1]\n",
    "    cov = np.identity(p)\n",
    "    mu = np.zeros([1, p])\n",
    "    mmu = np.zeros([n, p])\n",
    "    a = 1 - (p < n)\n",
    "    iter_num = 50\n",
    "    err = 10\n",
    "    for i in range(iter_num):\n",
    "        if err <= 1e-12:\n",
    "            break\n",
    "        else:\n",
    "            oldcov = cov\n",
    "            incov = np.linalg.inv(cov)\n",
    "            temp = np.dot(np.dot((x - mmu), incov), (x - mmu).T)\n",
    "            wt = (v + p) / (v + np.diag(temp))\n",
    "#             print(wt.shape)\n",
    "            mu = np.dot(wt, x) / np.sum(wt)\n",
    "            mmu = np.dot(np.ones([n, 1]), np.reshape(mu, [1, -1]))\n",
    "#             print(mmu.shape)\n",
    "            diag_wt = np.diag(wt)\n",
    "#             print(diag_wt.shape)\n",
    "            cov1 = np.dot(np.dot((x - mmu).T, diag_wt), (x - mmu)) / n\n",
    "            cov = cov1 / (1 + a) + a * np.identity(p) / (1 + a)\n",
    "            cov = cov\n",
    "            temp1 = (p * oldcov / np.sum(np.diag(oldcov))) - (p * cov / np.sum(np.diag(cov)))\n",
    "            err = np.linalg.norm(temp1, ord = \"fro\")\n",
    "#             print(i)\n",
    "    \n",
    "    \n",
    "    return mu, cov"
   ]
  },
  {
   "cell_type": "markdown",
   "id": "980d1f6e",
   "metadata": {},
   "source": [
    "## Training Set Boundaries Reassigned"
   ]
  },
  {
   "cell_type": "code",
   "execution_count": 135,
   "id": "074257fa",
   "metadata": {},
   "outputs": [],
   "source": [
    "def get_dis(x, mu, cov, inv, det):\n",
    "    n = x.shape[0]\n",
    "    up = 2000\n",
    "    tem = x - mu\n",
    "    tem = np.reshape(tem, [1, -1])\n",
    "    dis0 = np.dot(np.dot(tem, inv), tem.T)\n",
    "    dis = dis0 + 10 * det\n",
    "    return dis "
   ]
  },
  {
   "cell_type": "code",
   "execution_count": 136,
   "id": "0ead762b",
   "metadata": {},
   "outputs": [],
   "source": [
    "def pre(x, y, v):\n",
    "    a = 700\n",
    "    up = 2000\n",
    "    n = x.shape[0]\n",
    "    p = x.shape[1]\n",
    "    mu = np.zeros(p)\n",
    "    cov = np.zeros([p, p])\n",
    "    inv = np.zeros([p, p])\n",
    "    dis_all0 = np.zeros([n, 11])\n",
    "    dis_all = np.zeros([n, 11])\n",
    "    for i in range(11):\n",
    "        temp0 = x[(y == i), :]\n",
    "        mu, cov = t_type(temp0, v)\n",
    "        inv = np.linalg.inv(cov)\n",
    "        eig, vector = np.linalg.eig(cov)\n",
    "        ln_det = np.sum(np.log(eig))\n",
    "        m = 0\n",
    "        for m in range(n):\n",
    "            tem1 = x[m, :]\n",
    "            dis_all[m, i] = get_dis(tem1, mu, cov, inv, ln_det)\n",
    "    return dis_all"
   ]
  },
  {
   "cell_type": "code",
   "execution_count": 137,
   "id": "d073419a",
   "metadata": {},
   "outputs": [],
   "source": [
    "def acc(x, y, v, yt):\n",
    "    d = pre(x, y, v)\n",
    "    n = d.shape[0]\n",
    "    pre_label = np.zeros(n)\n",
    "    correct = 0\n",
    "    for i in range(n):\n",
    "        pre_label[i] = np.argsort(d[i, :])[0]\n",
    "        if pre_label[i] == yt[i]:\n",
    "            correct += 1\n",
    "    return correct / n, pre_label"
   ]
  },
  {
   "cell_type": "code",
   "execution_count": 309,
   "id": "cbe8937e",
   "metadata": {},
   "outputs": [
    {
     "data": {
      "text/plain": [
       "0.5872727272727273"
      ]
     },
     "execution_count": 309,
     "metadata": {},
     "output_type": "execute_result"
    }
   ],
   "source": [
    "train_temp = train_ch_ro[:, np.argsort(lr_result)[1:]]\n",
    "acc_rate, pre_label = acc(train_temp, train_noise_label, 1, train_label)\n",
    "acc_rate"
   ]
  },
  {
   "cell_type": "code",
   "execution_count": 310,
   "id": "8899f05b",
   "metadata": {},
   "outputs": [
    {
     "data": {
      "text/plain": [
       "0.5885714285714285"
      ]
     },
     "execution_count": 310,
     "metadata": {},
     "output_type": "execute_result"
    }
   ],
   "source": [
    "train_temp = train_ch_ro[:, np.argsort(lr_result)[1:]]\n",
    "acc_rate, pre_label = acc(train_temp, train_noise_label, 2, train_label)\n",
    "acc_rate"
   ]
  },
  {
   "cell_type": "code",
   "execution_count": 314,
   "id": "220fc4ac",
   "metadata": {},
   "outputs": [
    {
     "data": {
      "text/plain": [
       "0.6874025974025973"
      ]
     },
     "execution_count": 314,
     "metadata": {},
     "output_type": "execute_result"
    }
   ],
   "source": [
    "train_temp = train_ch_ro[:, np.argsort(lr_result)[150:]]\n",
    "acc_rate, pre_label = acc(train_temp, train_noise_label, 3, train_label)\n",
    "acc_rate"
   ]
  },
  {
   "cell_type": "code",
   "execution_count": 312,
   "id": "675af32b",
   "metadata": {},
   "outputs": [
    {
     "data": {
      "text/plain": [
       "0.5902597402597403"
      ]
     },
     "execution_count": 312,
     "metadata": {},
     "output_type": "execute_result"
    }
   ],
   "source": [
    "train_temp = train_ch_ro[:, np.argsort(lr_result)[1:]]\n",
    "acc_rate, pre_label = acc(train_temp, train_noise_label, 4, train_label)\n",
    "acc_rate"
   ]
  },
  {
   "cell_type": "code",
   "execution_count": 313,
   "id": "71c0f03c",
   "metadata": {},
   "outputs": [
    {
     "data": {
      "text/plain": [
       "0.5941558441558441"
      ]
     },
     "execution_count": 313,
     "metadata": {},
     "output_type": "execute_result"
    }
   ],
   "source": [
    "train_temp = train_ch_ro[:, np.argsort(lr_result)[1:]]\n",
    "acc_rate, pre_label = acc(train_temp, train_noise_label, 5, train_label)\n",
    "acc_rate"
   ]
  },
  {
   "cell_type": "code",
   "execution_count": 315,
   "id": "0d5f4e6c",
   "metadata": {},
   "outputs": [],
   "source": [
    "pd.DataFrame(pre_label).to_csv(\"train_reassigned_label_LR_after150.csv\")"
   ]
  },
  {
   "cell_type": "code",
   "execution_count": 316,
   "id": "3313f1d0",
   "metadata": {},
   "outputs": [
    {
     "data": {
      "text/plain": [
       "0.6874025974025973"
      ]
     },
     "execution_count": 316,
     "metadata": {},
     "output_type": "execute_result"
    }
   ],
   "source": [
    "acc_rate"
   ]
  },
  {
   "cell_type": "code",
   "execution_count": null,
   "id": "31913480",
   "metadata": {},
   "outputs": [],
   "source": []
  },
  {
   "cell_type": "code",
   "execution_count": null,
   "id": "d35a662a",
   "metadata": {},
   "outputs": [],
   "source": []
  }
 ],
 "metadata": {
  "kernelspec": {
   "display_name": "shiro",
   "language": "python",
   "name": "shiro"
  },
  "language_info": {
   "codemirror_mode": {
    "name": "ipython",
    "version": 3
   },
   "file_extension": ".py",
   "mimetype": "text/x-python",
   "name": "python",
   "nbconvert_exporter": "python",
   "pygments_lexer": "ipython3",
   "version": "3.9.13"
  },
  "toc": {
   "base_numbering": 1,
   "nav_menu": {},
   "number_sections": true,
   "sideBar": true,
   "skip_h1_title": false,
   "title_cell": "Table of Contents",
   "title_sidebar": "Contents",
   "toc_cell": false,
   "toc_position": {
    "height": "calc(100% - 180px)",
    "left": "10px",
    "top": "150px",
    "width": "166.825px"
   },
   "toc_section_display": true,
   "toc_window_display": true
  }
 },
 "nbformat": 4,
 "nbformat_minor": 5
}
