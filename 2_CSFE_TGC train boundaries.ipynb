{
 "cells": [
  {
   "cell_type": "markdown",
   "id": "e3856516",
   "metadata": {},
   "source": [
    "## Data upload"
   ]
  },
  {
   "cell_type": "code",
   "execution_count": 1,
   "id": "31cec098",
   "metadata": {
    "code_folding": []
   },
   "outputs": [],
   "source": [
    "#import packages\n",
    "import matplotlib.pyplot as plt\n",
    "import numpy as np\n",
    "import pandas as pd\n",
    "import math\n",
    "import random\n",
    "# Device configuration\n",
    "import os \n",
    "os.environ[\"CUDA_DEVICE_ORDER\"]=\"PCI_BUS_ID\"\n",
    "os.environ[\"CUDA_VISIBLE_DEVICES\"]='0'"
   ]
  },
  {
   "cell_type": "code",
   "execution_count": 2,
   "id": "1f534256",
   "metadata": {},
   "outputs": [],
   "source": [
    "#update data\n",
    "#feature\n",
    "train_ch = np.array(pd.read_csv(\"train_noise_logits_before.csv\", index_col = 0))\n",
    "#origin input\n",
    "train = np.array(pd.read_csv(\"train.csv\", index_col = 0))\n",
    "train = np.reshape(train, [train.shape[0], 2, 128])\n",
    "#label\n",
    "train_label = np.array(pd.read_csv(\"train_label.csv\", index_col = 0))\n",
    "train_noise_label = np.array(pd.read_csv(\"train_noise_label.csv\", index_col = 0))\n",
    "train_label = np.reshape(train_label, [-1])\n",
    "train_noise_label = np.reshape(train_noise_label, [-1])"
   ]
  },
  {
   "cell_type": "code",
   "execution_count": 15,
   "id": "796e918e",
   "metadata": {},
   "outputs": [
    {
     "data": {
      "text/plain": [
       "0.6"
      ]
     },
     "execution_count": 15,
     "metadata": {},
     "output_type": "execute_result"
    }
   ],
   "source": [
    "np.sum(train_noise_label == train_label) / len(train_label)"
   ]
  },
  {
   "cell_type": "code",
   "execution_count": 3,
   "id": "a7ad49d7",
   "metadata": {},
   "outputs": [],
   "source": [
    "a = np.cov(train_ch, rowvar = False)\n",
    "a_c, a_v = np.linalg.eig(a)\n",
    "train_ch_ro = np.dot(train_ch, a_v)"
   ]
  },
  {
   "cell_type": "markdown",
   "id": "49e6c007",
   "metadata": {},
   "source": [
    "## CSFE"
   ]
  },
  {
   "cell_type": "code",
   "execution_count": 5,
   "id": "1a1b8c49",
   "metadata": {
    "code_folding": [
     0,
     17
    ]
   },
   "outputs": [],
   "source": [
    "def g(x, sample, label, r):\n",
    "    n  = sample.shape[0]\n",
    "    g = 0\n",
    "\n",
    "    for i in range(r):\n",
    "        p_r = np.sum(label == i) / n\n",
    "        F_n = np.sum((sample <= x)) / n\n",
    "        F_n_bar = 1 - F_n\n",
    "        F_rn = np.sum((sample[(label == i)] <= x)) / (n * p_r)\n",
    "        F_rn_bar = 1 - F_rn\n",
    "#         print(F_n, F_rn)\n",
    "        \n",
    "        g += p_r * F_rn * np.log((F_rn + 1e-6) / (F_n + 1e-6)) + p_r * F_rn_bar * np.log((F_rn_bar + 1e-6) / (F_n_bar + 1e-6))\n",
    "\n",
    "\n",
    "    return 2 * g   \n",
    "\n",
    "def LR(x, y, r):\n",
    "    n = x.shape[0]\n",
    "    p = x.shape[1]\n",
    "    lr = np.zeros(p)\n",
    "    for i in range(p):\n",
    "        sample = x[:, i]\n",
    "        label = y\n",
    "        m = np.min(sample)\n",
    "        M = np.max(sample)\n",
    "        x_i = np.linspace(m, M, 101)\n",
    "        inter = (M - m) / 100\n",
    "        j = 0\n",
    "        for j in range(len(x_i) - 1):\n",
    "            lr[i] += g(x_i[j], sample, label, r) / n\n",
    "    \n",
    "    \n",
    "    return lr"
   ]
  },
  {
   "cell_type": "code",
   "execution_count": 6,
   "id": "254e00d6",
   "metadata": {},
   "outputs": [],
   "source": [
    "def VaS(x, y, r):\n",
    "    n = x.shape[0]\n",
    "    p = x.shape[1]\n",
    "    VaS = np.zeros(p)\n",
    "    for j in range(p):\n",
    "        a0 = (np.dot(np.reshape(x[:, j], [-1, 1]), np.ones([1, n])) <= np.dot(np.ones([n,1]), np.reshape(x[:, j], [1, -1])))\n",
    "        a00 = np.mean(a0, axis = 0)\n",
    "        d = np.zeros(r)\n",
    "        for i in range(r):\n",
    "            m = np.sum(y == i)\n",
    "            a = np.where(y == i)[0]\n",
    "            a1 = (np.dot(np.reshape(x[a, j], [-1, 1]), np.ones([1, n])) <= np.dot(np.ones([m,1]), np.reshape(x[:, j], [1, -1])))\n",
    "            a2 = np.mean(a1, axis = 0)\n",
    "            a35=(np.arcsin(np.sqrt(a2)) - np.arcsin(np.sqrt(a00))) ** 2\n",
    "            d1 = m * np.mean(a35)\n",
    "            d[i] = d1\n",
    "        d2 = np.sum(d)\n",
    "        VaS[j] = d2\n",
    "    return VaS"
   ]
  },
  {
   "cell_type": "code",
   "execution_count": 7,
   "id": "aba249e0",
   "metadata": {},
   "outputs": [],
   "source": [
    "VaS_result = VaS(train_ch_ro, train_noise_label, 11)"
   ]
  },
  {
   "cell_type": "markdown",
   "id": "da39966f",
   "metadata": {},
   "source": [
    "## TGC"
   ]
  },
  {
   "cell_type": "code",
   "execution_count": 8,
   "id": "fdaa5e33",
   "metadata": {},
   "outputs": [],
   "source": [
    "def t_type(x, v):\n",
    "    n = x.shape[0]\n",
    "    p = x.shape[1]\n",
    "    cov = np.identity(p)\n",
    "    mu = np.zeros([1, p])\n",
    "    mmu = np.zeros([n, p])\n",
    "    a = 1 - (p < n)\n",
    "    iter_num = 50\n",
    "    err = 10\n",
    "    for i in range(iter_num):\n",
    "        if err <= 1e-12:\n",
    "            break\n",
    "        else:\n",
    "            oldcov = cov\n",
    "            incov = np.linalg.inv(cov)\n",
    "            temp = np.dot(np.dot((x - mmu), incov), (x - mmu).T)\n",
    "            wt = (v + p) / (v + np.diag(temp))\n",
    "#             print(wt.shape)\n",
    "            mu = np.dot(wt, x) / np.sum(wt)\n",
    "            mmu = np.dot(np.ones([n, 1]), np.reshape(mu, [1, -1]))\n",
    "#             print(mmu.shape)\n",
    "            diag_wt = np.diag(wt)\n",
    "#             print(diag_wt.shape)\n",
    "            cov1 = np.dot(np.dot((x - mmu).T, diag_wt), (x - mmu)) / n\n",
    "            cov = cov1 / (1 + a) + a * np.identity(p) / (1 + a)\n",
    "            cov = cov\n",
    "            temp1 = (p * oldcov / np.sum(np.diag(oldcov))) - (p * cov / np.sum(np.diag(cov)))\n",
    "            err = np.linalg.norm(temp1, ord = \"fro\")\n",
    "#             print(i)\n",
    "    \n",
    "    \n",
    "    return mu, cov"
   ]
  },
  {
   "cell_type": "markdown",
   "id": "980d1f6e",
   "metadata": {},
   "source": [
    "## Training Set Boundaries Reassigned"
   ]
  },
  {
   "cell_type": "code",
   "execution_count": 9,
   "id": "074257fa",
   "metadata": {},
   "outputs": [],
   "source": [
    "def get_dis(x, mu, cov, inv, det):\n",
    "    n = x.shape[0]\n",
    "    up = 2000\n",
    "    tem = x - mu\n",
    "    tem = np.reshape(tem, [1, -1])\n",
    "    dis0 = np.dot(np.dot(tem, inv), tem.T)\n",
    "    dis = dis0 + 100 * det\n",
    "    return dis "
   ]
  },
  {
   "cell_type": "code",
   "execution_count": 10,
   "id": "0ead762b",
   "metadata": {},
   "outputs": [],
   "source": [
    "def pre(x, y, v):\n",
    "    a = 700\n",
    "    up = 2000\n",
    "    n = x.shape[0]\n",
    "    p = x.shape[1]\n",
    "    mu = np.zeros(p)\n",
    "    cov = np.zeros([p, p])\n",
    "    inv = np.zeros([p, p])\n",
    "    dis_all0 = np.zeros([n, 11])\n",
    "    dis_all = np.zeros([n, 11])\n",
    "    for i in range(11):\n",
    "        temp0 = x[(y == i), :]\n",
    "        mu, cov = t_type(temp0, v)\n",
    "        inv = np.linalg.inv(cov)\n",
    "        eig, vector = np.linalg.eig(cov)\n",
    "        ln_det = np.sum(np.log(eig))\n",
    "        m = 0\n",
    "        for m in range(n):\n",
    "            tem1 = x[m, :]\n",
    "            dis_all[m, i] = get_dis(tem1, mu, cov, inv, ln_det)\n",
    "    return dis_all"
   ]
  },
  {
   "cell_type": "code",
   "execution_count": 11,
   "id": "d073419a",
   "metadata": {},
   "outputs": [],
   "source": [
    "def acc(x, y, v, yt):\n",
    "    d = pre(x, y, v)\n",
    "    n = d.shape[0]\n",
    "    pre_label = np.zeros(n)\n",
    "    correct = 0\n",
    "    for i in range(n):\n",
    "        pre_label[i] = np.argsort(d[i, :])[0]\n",
    "        if pre_label[i] == yt[i]:\n",
    "            correct += 1\n",
    "    return correct / n, pre_label"
   ]
  },
  {
   "cell_type": "code",
   "execution_count": 12,
   "id": "cbe8937e",
   "metadata": {},
   "outputs": [
    {
     "data": {
      "text/plain": [
       "0.7068831168831169"
      ]
     },
     "execution_count": 12,
     "metadata": {},
     "output_type": "execute_result"
    }
   ],
   "source": [
    "train_temp = train_ch_ro[:, np.argsort(VaS_result)[150:]]\n",
    "acc_rate, pre_label = acc(train_temp, train_noise_label, 1, train_label)\n",
    "acc_rate"
   ]
  },
  {
   "cell_type": "code",
   "execution_count": 13,
   "id": "0d5f4e6c",
   "metadata": {},
   "outputs": [],
   "source": [
    "pd.DataFrame(pre_label).to_csv(\"train_reassigned_label_LR_after150.csv\")"
   ]
  },
  {
   "cell_type": "code",
   "execution_count": null,
   "id": "31913480",
   "metadata": {},
   "outputs": [],
   "source": []
  },
  {
   "cell_type": "code",
   "execution_count": null,
   "id": "d35a662a",
   "metadata": {},
   "outputs": [],
   "source": []
  }
 ],
 "metadata": {
  "kernelspec": {
   "display_name": "shiro",
   "language": "python",
   "name": "shiro"
  },
  "language_info": {
   "codemirror_mode": {
    "name": "ipython",
    "version": 3
   },
   "file_extension": ".py",
   "mimetype": "text/x-python",
   "name": "python",
   "nbconvert_exporter": "python",
   "pygments_lexer": "ipython3",
   "version": "3.9.13"
  },
  "toc": {
   "base_numbering": 1,
   "nav_menu": {},
   "number_sections": true,
   "sideBar": true,
   "skip_h1_title": false,
   "title_cell": "Table of Contents",
   "title_sidebar": "Contents",
   "toc_cell": false,
   "toc_position": {
    "height": "calc(100% - 180px)",
    "left": "10px",
    "top": "150px",
    "width": "221.225px"
   },
   "toc_section_display": true,
   "toc_window_display": true
  }
 },
 "nbformat": 4,
 "nbformat_minor": 5
}
